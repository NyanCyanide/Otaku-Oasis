{
 "cells": [
  {
   "attachments": {},
   "cell_type": "markdown",
   "metadata": {},
   "source": [
    "# AIWIR - Assignment 1\n",
    "\n",
    "### Team Members\n",
    "\n",
    "|Slno|Name|SRN|\n",
    "|--|--|--|\n",
    "| 1 | Hari Om Swarup S A | PES2UG20CS132 |\n",
    "| 2 | Harshit Prakash | PES2UG20CS137 |\n",
    "| 3 | Hemanth Reddy N | PES2UG20CS141 |\n",
    "| 4 | Mahitha Addanki | PES2UG20CS183 |"
   ]
  },
  {
   "attachments": {},
   "cell_type": "markdown",
   "metadata": {},
   "source": [
    "## Importing Libraries"
   ]
  },
  {
   "cell_type": "code",
   "execution_count": 9,
   "metadata": {},
   "outputs": [
    {
     "name": "stdout",
     "output_type": "stream",
     "text": [
      "Libraries imported\n"
     ]
    }
   ],
   "source": [
    "import pandas as pd # Pandas to extract and use csv files\n",
    "import numpy as np # Numpy to perform mathematical processes\n",
    "import re # Regular expressions to clean the text\n",
    "import nltk\n",
    "from collections import defaultdict # To create a dictionary\n",
    "from nltk.tokenize import word_tokenize # To tokenize the text\n",
    "from nltk.corpus import stopwords # To remove stopwords\n",
    "from nltk.stem import SnowballStemmer # To stem the words\n",
    "from nltk.stem import PorterStemmer # To stem the words\n",
    "from datetime import datetime # To convert the date to a datetime object\n",
    "from sklearn.feature_extraction.text import TfidfVectorizer # To create the TF-IDF matrix\n",
    "from sklearn.metrics.pairwise import cosine_similarity # To calculate the cosine similarity\n",
    "print(\"Libraries imported\") # To check if the libraries are imported"
   ]
  },
  {
   "attachments": {},
   "cell_type": "markdown",
   "metadata": {},
   "source": [
    "## Importing Dataset"
   ]
  },
  {
   "cell_type": "code",
   "execution_count": 61,
   "metadata": {},
   "outputs": [],
   "source": [
    "anime_data = pd.read_csv(\"./Dataset/anime.csv\", encoding='utf-8')"
   ]
  },
  {
   "cell_type": "code",
   "execution_count": 62,
   "metadata": {},
   "outputs": [
    {
     "data": {
      "text/html": [
       "<div>\n",
       "<style scoped>\n",
       "    .dataframe tbody tr th:only-of-type {\n",
       "        vertical-align: middle;\n",
       "    }\n",
       "\n",
       "    .dataframe tbody tr th {\n",
       "        vertical-align: top;\n",
       "    }\n",
       "\n",
       "    .dataframe thead th {\n",
       "        text-align: right;\n",
       "    }\n",
       "</style>\n",
       "<table border=\"1\" class=\"dataframe\">\n",
       "  <thead>\n",
       "    <tr style=\"text-align: right;\">\n",
       "      <th></th>\n",
       "      <th>uid</th>\n",
       "      <th>title</th>\n",
       "      <th>synopsis</th>\n",
       "      <th>genre</th>\n",
       "      <th>aired</th>\n",
       "      <th>episodes</th>\n",
       "      <th>members</th>\n",
       "      <th>popularity</th>\n",
       "      <th>ranked</th>\n",
       "      <th>score</th>\n",
       "      <th>img_url</th>\n",
       "      <th>link</th>\n",
       "    </tr>\n",
       "  </thead>\n",
       "  <tbody>\n",
       "    <tr>\n",
       "      <th>0</th>\n",
       "      <td>28891</td>\n",
       "      <td>Haikyuu!! Second Season</td>\n",
       "      <td>Following their participation at the Inter-Hig...</td>\n",
       "      <td>['Comedy', 'Sports', 'Drama', 'School', 'Shoun...</td>\n",
       "      <td>Oct 4, 2015 to Mar 27, 2016</td>\n",
       "      <td>25.0</td>\n",
       "      <td>489888</td>\n",
       "      <td>141</td>\n",
       "      <td>25.0</td>\n",
       "      <td>8.82</td>\n",
       "      <td>https://cdn.myanimelist.net/images/anime/9/766...</td>\n",
       "      <td>https://myanimelist.net/anime/28891/Haikyuu_Se...</td>\n",
       "    </tr>\n",
       "    <tr>\n",
       "      <th>1</th>\n",
       "      <td>23273</td>\n",
       "      <td>Shigatsu wa Kimi no Uso</td>\n",
       "      <td>Music accompanies the path of the human metron...</td>\n",
       "      <td>['Drama', 'Music', 'Romance', 'School', 'Shoun...</td>\n",
       "      <td>Oct 10, 2014 to Mar 20, 2015</td>\n",
       "      <td>22.0</td>\n",
       "      <td>995473</td>\n",
       "      <td>28</td>\n",
       "      <td>24.0</td>\n",
       "      <td>8.83</td>\n",
       "      <td>https://cdn.myanimelist.net/images/anime/3/671...</td>\n",
       "      <td>https://myanimelist.net/anime/23273/Shigatsu_w...</td>\n",
       "    </tr>\n",
       "    <tr>\n",
       "      <th>2</th>\n",
       "      <td>34599</td>\n",
       "      <td>Made in Abyss</td>\n",
       "      <td>The Abyss—a gaping chasm stretching down into ...</td>\n",
       "      <td>['Sci-Fi', 'Adventure', 'Mystery', 'Drama', 'F...</td>\n",
       "      <td>Jul 7, 2017 to Sep 29, 2017</td>\n",
       "      <td>13.0</td>\n",
       "      <td>581663</td>\n",
       "      <td>98</td>\n",
       "      <td>23.0</td>\n",
       "      <td>8.83</td>\n",
       "      <td>https://cdn.myanimelist.net/images/anime/6/867...</td>\n",
       "      <td>https://myanimelist.net/anime/34599/Made_in_Abyss</td>\n",
       "    </tr>\n",
       "    <tr>\n",
       "      <th>3</th>\n",
       "      <td>5114</td>\n",
       "      <td>Fullmetal Alchemist: Brotherhood</td>\n",
       "      <td>\"In order for something to be obtained, someth...</td>\n",
       "      <td>['Action', 'Military', 'Adventure', 'Comedy', ...</td>\n",
       "      <td>Apr 5, 2009 to Jul 4, 2010</td>\n",
       "      <td>64.0</td>\n",
       "      <td>1615084</td>\n",
       "      <td>4</td>\n",
       "      <td>1.0</td>\n",
       "      <td>9.23</td>\n",
       "      <td>https://cdn.myanimelist.net/images/anime/1223/...</td>\n",
       "      <td>https://myanimelist.net/anime/5114/Fullmetal_A...</td>\n",
       "    </tr>\n",
       "    <tr>\n",
       "      <th>4</th>\n",
       "      <td>31758</td>\n",
       "      <td>Kizumonogatari III: Reiketsu-hen</td>\n",
       "      <td>After helping revive the legendary vampire Kis...</td>\n",
       "      <td>['Action', 'Mystery', 'Supernatural', 'Vampire']</td>\n",
       "      <td>Jan 6, 2017</td>\n",
       "      <td>1.0</td>\n",
       "      <td>214621</td>\n",
       "      <td>502</td>\n",
       "      <td>22.0</td>\n",
       "      <td>8.83</td>\n",
       "      <td>https://cdn.myanimelist.net/images/anime/3/815...</td>\n",
       "      <td>https://myanimelist.net/anime/31758/Kizumonoga...</td>\n",
       "    </tr>\n",
       "  </tbody>\n",
       "</table>\n",
       "</div>"
      ],
      "text/plain": [
       "     uid                             title  \\\n",
       "0  28891           Haikyuu!! Second Season   \n",
       "1  23273           Shigatsu wa Kimi no Uso   \n",
       "2  34599                     Made in Abyss   \n",
       "3   5114  Fullmetal Alchemist: Brotherhood   \n",
       "4  31758  Kizumonogatari III: Reiketsu-hen   \n",
       "\n",
       "                                            synopsis  \\\n",
       "0  Following their participation at the Inter-Hig...   \n",
       "1  Music accompanies the path of the human metron...   \n",
       "2  The Abyss—a gaping chasm stretching down into ...   \n",
       "3  \"In order for something to be obtained, someth...   \n",
       "4  After helping revive the legendary vampire Kis...   \n",
       "\n",
       "                                               genre  \\\n",
       "0  ['Comedy', 'Sports', 'Drama', 'School', 'Shoun...   \n",
       "1  ['Drama', 'Music', 'Romance', 'School', 'Shoun...   \n",
       "2  ['Sci-Fi', 'Adventure', 'Mystery', 'Drama', 'F...   \n",
       "3  ['Action', 'Military', 'Adventure', 'Comedy', ...   \n",
       "4   ['Action', 'Mystery', 'Supernatural', 'Vampire']   \n",
       "\n",
       "                          aired  episodes  members  popularity  ranked  score  \\\n",
       "0   Oct 4, 2015 to Mar 27, 2016      25.0   489888         141    25.0   8.82   \n",
       "1  Oct 10, 2014 to Mar 20, 2015      22.0   995473          28    24.0   8.83   \n",
       "2   Jul 7, 2017 to Sep 29, 2017      13.0   581663          98    23.0   8.83   \n",
       "3    Apr 5, 2009 to Jul 4, 2010      64.0  1615084           4     1.0   9.23   \n",
       "4                   Jan 6, 2017       1.0   214621         502    22.0   8.83   \n",
       "\n",
       "                                             img_url  \\\n",
       "0  https://cdn.myanimelist.net/images/anime/9/766...   \n",
       "1  https://cdn.myanimelist.net/images/anime/3/671...   \n",
       "2  https://cdn.myanimelist.net/images/anime/6/867...   \n",
       "3  https://cdn.myanimelist.net/images/anime/1223/...   \n",
       "4  https://cdn.myanimelist.net/images/anime/3/815...   \n",
       "\n",
       "                                                link  \n",
       "0  https://myanimelist.net/anime/28891/Haikyuu_Se...  \n",
       "1  https://myanimelist.net/anime/23273/Shigatsu_w...  \n",
       "2  https://myanimelist.net/anime/34599/Made_in_Abyss  \n",
       "3  https://myanimelist.net/anime/5114/Fullmetal_A...  \n",
       "4  https://myanimelist.net/anime/31758/Kizumonoga...  "
      ]
     },
     "execution_count": 62,
     "metadata": {},
     "output_type": "execute_result"
    }
   ],
   "source": [
    "anime_data.head()"
   ]
  },
  {
   "cell_type": "code",
   "execution_count": 63,
   "metadata": {},
   "outputs": [
    {
     "name": "stdout",
     "output_type": "stream",
     "text": [
      "Following their participation at the Inter-High, the Karasuno High School volleyball team attempts to refocus their efforts, aiming to conquer the Spring tournament instead.  \n",
      " \n",
      "When they receive an invitation from long-standing rival Nekoma High, Karasuno agrees to take part in a large training camp alongside many notable volleyball teams in Tokyo and even some national level players. By playing with some of the toughest teams in Japan, they hope not only to sharpen their skills, but also come up with new attacks that would strengthen them. Moreover, Hinata and Kageyama attempt to devise a more powerful weapon, one that could possibly break the sturdiest of blocks.  \n",
      " \n",
      "Facing what may be their last chance at victory before the senior players graduate, the members of Karasuno's volleyball team must learn to settle their differences and train harder than ever if they hope to overcome formidable opponents old and new—including their archrival Aoba Jousai and its world-class setter Tooru Oikawa. \n",
      " \n",
      "[Written by MAL Rewrite]\n"
     ]
    }
   ],
   "source": [
    "print(anime_data['synopsis'][0])"
   ]
  },
  {
   "attachments": {},
   "cell_type": "markdown",
   "metadata": {},
   "source": [
    "## Pre-processing Techniques"
   ]
  },
  {
   "cell_type": "code",
   "execution_count": 65,
   "metadata": {},
   "outputs": [
    {
     "name": "stdout",
     "output_type": "stream",
     "text": [
      "Zeroth\n",
      "Following their participation at the Inter-High, the Karasuno High School volleyball team attempts to refocus their efforts, aiming to conquer the Spring tournament instead.  \n",
      " \n",
      "When they receive an invitation from long-standing rival Nekoma High, Karasuno agrees to take part in a large training camp alongside many notable volleyball teams in Tokyo and even some national level players. By playing with some of the toughest teams in Japan, they hope not only to sharpen their skills, but also come up with new attacks that would strengthen them. Moreover, Hinata and Kageyama attempt to devise a more powerful weapon, one that could possibly break the sturdiest of blocks.  \n",
      " \n",
      "Facing what may be their last chance at victory before the senior players graduate, the members of Karasuno's volleyball team must learn to settle their differences and train harder than ever if they hope to overcome formidable opponents old and new—including their archrival Aoba Jousai and its world-class setter Tooru Oikawa. \n",
      " \n",
      "[Written by MAL Rewrite]\n",
      "First\n",
      "Following their participation at the Inter-High, the Karasuno High School volleyball team attempts to refocus their efforts, aiming to conquer the Spring tournament instead.  \n",
      " \n",
      "When they receive an invitation from long-standing rival Nekoma High, Karasuno agrees to take part in a large training camp alongside many notable volleyball teams in Tokyo and even some national level players. By playing with some of the toughest teams in Japan, they hope not only to sharpen their skills, but also come up with new attacks that would strengthen them. Moreover, Hinata and Kageyama attempt to devise a more powerful weapon, one that could possibly break the sturdiest of blocks.  \n",
      " \n",
      "Facing what may be their last chance at victory before the senior players graduate, the members of Karasuno's volleyball team must learn to settle their differences and train harder than ever if they hope to overcome formidable opponents old and new—including their archrival Aoba Jousai and its world-class setter Tooru Oikawa. \n",
      " \n",
      "[Written by MAL Rewrite]\n",
      "Second\n",
      "following their participation at the interhigh the karasuno high school volleyball team attempts to refocus their efforts aiming to conquer the spring tournament instead  \n",
      " \n",
      "when they receive an invitation from longstanding rival nekoma high karasuno agrees to take part in a large training camp alongside many notable volleyball teams in tokyo and even some national level players by playing with some of the toughest teams in japan they hope not only to sharpen their skills but also come up with new attacks that would strengthen them moreover hinata and kageyama attempt to devise a more powerful weapon one that could possibly break the sturdiest of blocks  \n",
      " \n",
      "facing what may be their last chance at victory before the senior players graduate the members of karasunos volleyball team must learn to settle their differences and train harder than ever if they hope to overcome formidable opponents old and newincluding their archrival aoba jousai and its worldclass setter tooru oikawa \n",
      " \n",
      "written by mal rewrite\n",
      "Third\n",
      "['following', 'participation', 'interhigh', 'karasuno', 'high', 'school', 'volleyball', 'team', 'attempts', 'refocus', 'efforts', 'aiming', 'conquer', 'spring', 'tournament', 'instead', 'receive', 'invitation', 'longstanding', 'rival', 'nekoma', 'high', 'karasuno', 'agrees', 'take', 'part', 'large', 'training', 'camp', 'alongside', 'many', 'notable', 'volleyball', 'teams', 'tokyo', 'even', 'national', 'level', 'players', 'playing', 'toughest', 'teams', 'japan', 'hope', 'sharpen', 'skills', 'also', 'come', 'new', 'attacks', 'would', 'strengthen', 'moreover', 'hinata', 'kageyama', 'attempt', 'devise', 'powerful', 'weapon', 'one', 'could', 'possibly', 'break', 'sturdiest', 'blocks', 'facing', 'may', 'last', 'chance', 'victory', 'senior', 'players', 'graduate', 'members', 'karasunos', 'volleyball', 'team', 'must', 'learn', 'settle', 'differences', 'train', 'harder', 'ever', 'hope', 'overcome', 'formidable', 'opponents', 'old', 'newincluding', 'archrival', 'aoba', 'jousai', 'worldclass', 'setter', 'tooru', 'oikawa', 'written', 'mal', 'rewrite']\n",
      "Fourth\n",
      "['follow', 'particip', 'interhigh', 'karasuno', 'high', 'school', 'volleybal', 'team', 'attempt', 'refocus', 'effort', 'aim', 'conquer', 'spring', 'tournament', 'instead', 'receiv', 'invit', 'longstand', 'rival', 'nekoma', 'high', 'karasuno', 'agre', 'take', 'part', 'larg', 'train', 'camp', 'alongsid', 'mani', 'notabl', 'volleybal', 'team', 'tokyo', 'even', 'nation', 'level', 'player', 'play', 'toughest', 'team', 'japan', 'hope', 'sharpen', 'skill', 'also', 'come', 'new', 'attack', 'would', 'strengthen', 'moreov', 'hinata', 'kageyama', 'attempt', 'devis', 'power', 'weapon', 'one', 'could', 'possibl', 'break', 'sturdiest', 'block', 'face', 'may', 'last', 'chanc', 'victori', 'senior', 'player', 'graduat', 'member', 'karasuno', 'volleybal', 'team', 'must', 'learn', 'settl', 'differ', 'train', 'harder', 'ever', 'hope', 'overcom', 'formid', 'oppon', 'old', 'newinclud', 'archriv', 'aoba', 'jousai', 'worldclass', 'setter', 'tooru', 'oikawa', 'written', 'mal', 'rewrit']\n",
      "Fifth\n",
      "follow particip interhigh karasuno high school volleybal team attempt refocus effort aim conquer spring tournament instead receiv invit longstand rival nekoma high karasuno agre take part larg train camp alongsid mani notabl volleybal team tokyo even nation level player play toughest team japan hope sharpen skill also come new attack would strengthen moreov hinata kageyama attempt devis power weapon one could possibl break sturdiest block face may last chanc victori senior player graduat member karasuno volleybal team must learn settl differ train harder ever hope overcom formid oppon old newinclud archriv aoba jousai worldclass setter tooru oikawa written mal rewrit\n",
      "Pre processing done\n"
     ]
    }
   ],
   "source": [
    "# import re\n",
    "# from nltk.tokenize import word_tokenize\n",
    "# from nltk.corpus import stopwords\n",
    "# from nltk.stem import PorterStemmer\n",
    "# \n",
    "global key\n",
    "key = 0\n",
    "def preprocess_text(text):\n",
    "    # convert to lowercase\n",
    "    global key\n",
    "    if(key == 0):\n",
    "        print(\"First\")\n",
    "        print(text)\n",
    "    text = str(text)\n",
    "    text = text.lower()\n",
    "    \n",
    "    # remove punctuation\n",
    "    text = re.sub(r'[^\\w\\s]', '', text)\n",
    "    if(key == 0):\n",
    "        print(\"Second\")\n",
    "        print(text)\n",
    "        # key = 1\n",
    "    # tokenize the text\n",
    "    tokens = word_tokenize(text)\n",
    "    \n",
    "    # remove stop words\n",
    "    stop_words = set(stopwords.words('english'))\n",
    "    filtered_tokens = [token for token in tokens if token not in stop_words]\n",
    "    \n",
    "    # stem the tokens\n",
    "    if(key == 0):\n",
    "        print(\"Third\")\n",
    "        print(filtered_tokens)\n",
    "        # key = 1\n",
    "    stemmer = SnowballStemmer('english')\n",
    "    stemmed_tokens = [stemmer.stem(token) for token in filtered_tokens]\n",
    "    if(key == 0):\n",
    "        print(\"Fourth\")\n",
    "        print(stemmed_tokens)\n",
    "        # key = 1\n",
    "    # join the tokens back into a string\n",
    "    preprocessed_text = ' '.join(stemmed_tokens)\n",
    "    if(key == 0):\n",
    "        print(\"Fifth\")\n",
    "        print(preprocessed_text)\n",
    "        key = 1\n",
    "    \n",
    "    return preprocessed_text\n",
    "\n",
    "print(\"Zeroth\")\n",
    "print(anime_data['synopsis'][0])\n",
    "anime_data['synopsis'] = anime_data['synopsis'].apply(preprocess_text)\n",
    "print(\"Pre processing done\")\n"
   ]
  },
  {
   "cell_type": "code",
   "execution_count": null,
   "metadata": {},
   "outputs": [],
   "source": [
    "# import re\n",
    "# from nltk.tokenize import word_tokenize\n",
    "# from nltk.corpus import stopwords\n",
    "# from nltk.stem import PorterStemmer\n",
    "# \n",
    "def preprocess_text(text):\n",
    "    # convert to lowercase\n",
    "    text = str(text)\n",
    "    text = text.lower()\n",
    "    \n",
    "    # remove punctuation\n",
    "    text = re.sub(r'[^\\w\\s]', '', text)\n",
    "\n",
    "    # tokenize the text\n",
    "    tokens = word_tokenize(text)\n",
    "    \n",
    "    # remove stop words\n",
    "    stop_words = set(stopwords.words('english'))\n",
    "    filtered_tokens = [token for token in tokens if token not in stop_words]\n",
    "    \n",
    "    # stem the tokens\n",
    "\n",
    "    stemmer = SnowballStemmer('english')\n",
    "    stemmed_tokens = [stemmer.stem(token) for token in filtered_tokens]\n",
    "\n",
    "    # join the tokens back into a string\n",
    "    preprocessed_text = ' '.join(stemmed_tokens)\n",
    "\n",
    "    \n",
    "    return preprocessed_text\n",
    "\n",
    "anime_data['synopsis'] = anime_data['synopsis'].apply(preprocess_text)\n",
    "print(\"Pre processing done\")\n"
   ]
  },
  {
   "cell_type": "code",
   "execution_count": 47,
   "metadata": {},
   "outputs": [
    {
     "data": {
      "text/plain": [
       "0    follow particip interhigh karasuno high school...\n",
       "1    music accompani path human metronom prodigi pi...\n",
       "2    abyssa gape chasm stretch depth earth fill mys...\n",
       "3    order someth obtain someth equal valu must los...\n",
       "4    help reviv legendari vampir kissshot acerolaor...\n",
       "Name: synopsis, dtype: object"
      ]
     },
     "execution_count": 47,
     "metadata": {},
     "output_type": "execute_result"
    }
   ],
   "source": [
    "anime_data['synopsis'].head(5)"
   ]
  },
  {
   "cell_type": "code",
   "execution_count": 48,
   "metadata": {},
   "outputs": [
    {
     "data": {
      "text/plain": [
       "'follow particip interhigh karasuno high school volleybal team attempt refocu effort aim conquer spring tournament instead receiv invit longstand rival nekoma high karasuno agre take part larg train camp alongsid mani notabl volleybal team tokyo even nation level player play toughest team japan hope sharpen skill also come new attack would strengthen moreov hinata kageyama attempt devis power weapon one could possibl break sturdiest block face may last chanc victori senior player graduat member karasuno volleybal team must learn settl differ train harder ever hope overcom formid oppon old newinclud archriv aoba jousai worldclass setter tooru oikawa written mal rewrit'"
      ]
     },
     "execution_count": 48,
     "metadata": {},
     "output_type": "execute_result"
    }
   ],
   "source": [
    "anime_data['synopsis'][0]"
   ]
  }
 ],
 "metadata": {
  "kernelspec": {
   "display_name": "Python 3",
   "language": "python",
   "name": "python3"
  },
  "language_info": {
   "codemirror_mode": {
    "name": "ipython",
    "version": 3
   },
   "file_extension": ".py",
   "mimetype": "text/x-python",
   "name": "python",
   "nbconvert_exporter": "python",
   "pygments_lexer": "ipython3",
   "version": "3.10.4"
  },
  "orig_nbformat": 4
 },
 "nbformat": 4,
 "nbformat_minor": 2
}
